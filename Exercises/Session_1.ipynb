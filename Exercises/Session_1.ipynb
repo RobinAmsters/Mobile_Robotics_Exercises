{
 "cells": [
  {
   "cell_type": "markdown",
   "metadata": {
    "id": "Zdmew19RWv-4"
   },
   "source": [
    "# Exercise session 1 - Introduction and Dead Reckoning\n",
    "\n",
    "This exercise session is comprised of two parts. The goal of the first part is to familiarize you with the software that we will be using for the exercise sessions. Next, we'll take a look at one of the very first (and most basic) localization methods: dead reckoning. Your goal is to learn what this method actually is, what its limitations are and where we can and cannot use this method. You will also learn more about “error ellipses” and how to understand them.\n",
    "\n",
    "## Preparation\n",
    "\n",
    "In order to be productive during this exercise session, you will have to:\n",
    "\n",
    "* Read the getting started page\n",
    "* Read the turtlebot toolbox documentation\n",
    "* Study the part of “dead reckoning” of your course. Understanding the concept of error ellipses is important for this exercise session. An introductory text can be found on Toledo.\n",
    "\n",
    "## Questions to hand in before the session starts\n",
    "\n",
    "What is the difference between a function and a script (regular MATLAB-file)?\n",
    "\n",
    "1.   What function will you use to find out how far your robot has driven ?\n",
    "2.   Let’s assume a 1D movement: you are moving at 1m/s and every second, you\n",
    "know that you have an error of +/- 0.1m.\n",
    "3.   Draw the error “ellipses” of 3 steps (1 second between each step), starting from a certain intial position.\n",
    "4.   Are these still error ellipses (Or are they something else) ?\n",
    "5.   What can you conclude about your position after those 3 steps? And after 10 steps (no drawing required).\n"
   ]
  },
  {
   "cell_type": "markdown",
   "metadata": {
    "id": "Q1CYJtmv0dqy"
   },
   "source": [
    "# Introduction & warm up exercises\n",
    "First, we need to make sure that all neccesary libraries are installed (only required at the very beginning)"
   ]
  },
  {
   "cell_type": "code",
   "execution_count": null,
   "metadata": {
    "colab": {
     "base_uri": "https://localhost:8080/"
    },
    "executionInfo": {
     "elapsed": 6585,
     "status": "ok",
     "timestamp": 1604054315321,
     "user": {
      "displayName": "Robin Amsters",
      "photoUrl": "",
      "userId": "05261837274179860375"
     },
     "user_tz": -60
    },
    "id": "7iFXEeIHXXeZ",
    "outputId": "5a199c7a-6fd4-4d89-b25e-5291a46e329f"
   },
   "outputs": [],
   "source": [
    "# pip uninstall MobileRoboticsGT"
   ]
  },
  {
   "cell_type": "code",
   "execution_count": 30,
   "metadata": {
    "colab": {
     "base_uri": "https://localhost:8080/"
    },
    "executionInfo": {
     "elapsed": 12758,
     "status": "ok",
     "timestamp": 1604054330662,
     "user": {
      "displayName": "Robin Amsters",
      "photoUrl": "",
      "userId": "05261837274179860375"
     },
     "user_tz": -60
    },
    "id": "Zl9hURz1OVKb",
    "outputId": "ef0834d1-eca3-446d-bf7f-e88e5a64943a"
   },
   "outputs": [
    {
     "name": "stdout",
     "output_type": "stream",
     "text": [
      "Collecting git+https://github.com/RobinAmsters/Mobile_Robotics_Exercises.git\n",
      "  Cloning https://github.com/RobinAmsters/Mobile_Robotics_Exercises.git to /tmp/pip-req-build-hw9tm3kb\n",
      "  Running command git clone -q https://github.com/RobinAmsters/Mobile_Robotics_Exercises.git /tmp/pip-req-build-hw9tm3kb\n",
      "Building wheels for collected packages: MobileRoboticsGT\n",
      "  Building wheel for MobileRoboticsGT (setup.py) ... \u001b[?25l\u001b[?25hdone\n",
      "  Created wheel for MobileRoboticsGT: filename=MobileRoboticsGT-0.0.8-cp36-none-any.whl size=71522 sha256=16b18e4cd19442d18af490849873a31f8adb50215e4754346d19c93610e6b552\n",
      "  Stored in directory: /tmp/pip-ephem-wheel-cache-09nfstx5/wheels/93/8a/16/015d522e8dfa94a6bd8d54a942893947cce0da5ac1c2b0b072\n",
      "Successfully built MobileRoboticsGT\n",
      "Installing collected packages: MobileRoboticsGT\n",
      "Successfully installed MobileRoboticsGT-0.0.8\n"
     ]
    }
   ],
   "source": [
    "#!python -m pip install git+https://github.com/RobinAmsters/Mobile_Robotics_Exercises.git\n",
    "#!pip install filterpy\n",
    "#!sudo apt install python3-gi gobject-introspection gir1.2-gtk-3.0"
   ]
  },
  {
   "cell_type": "code",
   "execution_count": 1,
   "metadata": {
    "executionInfo": {
     "elapsed": 558,
     "status": "ok",
     "timestamp": 1604053071796,
     "user": {
      "displayName": "Robin Amsters",
      "photoUrl": "",
      "userId": "05261837274179860375"
     },
     "user_tz": -60
    },
    "id": "NNLQAz0JAD3D"
   },
   "outputs": [
    {
     "ename": "ImportError",
     "evalue": "No module named PythonRobotics.Localization.extended_kalman_filter.extended_kalman_filter",
     "output_type": "error",
     "traceback": [
      "\u001b[0;31m---------------------------------------------------------------------------\u001b[0m",
      "\u001b[0;31mImportError\u001b[0m                               Traceback (most recent call last)",
      "\u001b[0;32m<ipython-input-1-0089612773bb>\u001b[0m in \u001b[0;36m<module>\u001b[0;34m()\u001b[0m\n\u001b[0;32m----> 1\u001b[0;31m \u001b[0;32mimport\u001b[0m \u001b[0mPythonRobotics\u001b[0m\u001b[0;34m.\u001b[0m\u001b[0mLocalization\u001b[0m\u001b[0;34m.\u001b[0m\u001b[0mextended_kalman_filter\u001b[0m\u001b[0;34m.\u001b[0m\u001b[0mextended_kalman_filter\u001b[0m \u001b[0;32mas\u001b[0m \u001b[0mEKF\u001b[0m\u001b[0;34m\u001b[0m\u001b[0m\n\u001b[0m\u001b[1;32m      2\u001b[0m \u001b[0;32mimport\u001b[0m \u001b[0mfilterpy\u001b[0m\u001b[0;34m\u001b[0m\u001b[0m\n\u001b[1;32m      3\u001b[0m \u001b[0;32mimport\u001b[0m \u001b[0mmatplotlib\u001b[0m\u001b[0;34m.\u001b[0m\u001b[0mpyplot\u001b[0m \u001b[0;32mas\u001b[0m \u001b[0mplt\u001b[0m\u001b[0;34m\u001b[0m\u001b[0m\n\u001b[1;32m      4\u001b[0m \u001b[0;32mimport\u001b[0m \u001b[0mnumpy\u001b[0m \u001b[0;32mas\u001b[0m \u001b[0mnp\u001b[0m\u001b[0;34m\u001b[0m\u001b[0m\n",
      "\u001b[0;31mImportError\u001b[0m: No module named PythonRobotics.Localization.extended_kalman_filter.extended_kalman_filter"
     ]
    }
   ],
   "source": [
    "import PythonRobotics.Localization.extended_kalman_filter.extended_kalman_filter as EKF\n",
    "import filterpy\n",
    "import matplotlib.pyplot as plt\n",
    "import numpy as np"
   ]
  },
  {
   "cell_type": "markdown",
   "metadata": {
    "id": "Ki68l7kal55V"
   },
   "source": [
    "To get a feel for how this works, we will now make a few introductory programming exercises. These should not take more than a few minutes each.\n",
    "\n",
    "## Write a program that will print the squares of the even numbers between 5 and 10."
   ]
  },
  {
   "cell_type": "code",
   "execution_count": 2,
   "metadata": {
    "colab": {
     "base_uri": "https://localhost:8080/"
    },
    "executionInfo": {
     "elapsed": 671,
     "status": "ok",
     "timestamp": 1603979210220,
     "user": {
      "displayName": "Robin Amsters",
      "photoUrl": "",
      "userId": "05261837274179860375"
     },
     "user_tz": -60
    },
    "id": "pmNRG8OKALyd",
    "outputId": "cb1720a1-a9cf-49a9-8027-e0d5968fdd65"
   },
   "outputs": [
    {
     "name": "stdout",
     "output_type": "stream",
     "text": [
      "36\n",
      "64\n",
      "100\n",
      "36\n",
      "64\n",
      "100\n"
     ]
    }
   ],
   "source": [
    "# Solution 1\n",
    "for i in range(6,11, 2):\n",
    "  print(i**2)\n",
    "\n",
    "# Solution 2\n",
    "for i in range(5, 11):\n",
    "  if i%2==0:\n",
    "    print(i**2)"
   ]
  },
  {
   "cell_type": "markdown",
   "metadata": {
    "id": "pBlz__7lnMxB"
   },
   "source": [
    "## Plot a line graph of the following equation: $y=2x^2+5$\n"
   ]
  },
  {
   "cell_type": "code",
   "execution_count": 3,
   "metadata": {
    "colab": {
     "base_uri": "https://localhost:8080/",
     "height": 265
    },
    "executionInfo": {
     "elapsed": 1031,
     "status": "ok",
     "timestamp": 1603984006710,
     "user": {
      "displayName": "Robin Amsters",
      "photoUrl": "",
      "userId": "05261837274179860375"
     },
     "user_tz": -60
    },
    "id": "23xSeo9qntdL",
    "outputId": "35623cc8-0623-4642-a2ea-963e2f34736c"
   },
   "outputs": [
    {
     "ename": "NameError",
     "evalue": "name 'np' is not defined",
     "output_type": "error",
     "traceback": [
      "\u001b[0;31m---------------------------------------------------------------------------\u001b[0m",
      "\u001b[0;31mNameError\u001b[0m                                 Traceback (most recent call last)",
      "\u001b[0;32m<ipython-input-3-b79399c0f244>\u001b[0m in \u001b[0;36m<module>\u001b[0;34m()\u001b[0m\n\u001b[0;32m----> 1\u001b[0;31m \u001b[0mx\u001b[0m \u001b[0;34m=\u001b[0m \u001b[0mnp\u001b[0m\u001b[0;34m.\u001b[0m\u001b[0mlinspace\u001b[0m\u001b[0;34m(\u001b[0m\u001b[0;34m-\u001b[0m\u001b[0;36m100\u001b[0m\u001b[0;34m,\u001b[0m\u001b[0;36m100\u001b[0m\u001b[0;34m,\u001b[0m \u001b[0;36m100\u001b[0m\u001b[0;34m)\u001b[0m\u001b[0;34m\u001b[0m\u001b[0m\n\u001b[0m\u001b[1;32m      2\u001b[0m \u001b[0my\u001b[0m \u001b[0;34m=\u001b[0m \u001b[0;36m2\u001b[0m\u001b[0;34m*\u001b[0m\u001b[0mx\u001b[0m\u001b[0;34m**\u001b[0m\u001b[0;36m2\u001b[0m \u001b[0;34m+\u001b[0m  \u001b[0;36m5\u001b[0m\u001b[0;34m\u001b[0m\u001b[0m\n\u001b[1;32m      3\u001b[0m \u001b[0mplt\u001b[0m\u001b[0;34m.\u001b[0m\u001b[0mfigure\u001b[0m\u001b[0;34m(\u001b[0m\u001b[0;34m)\u001b[0m\u001b[0;34m\u001b[0m\u001b[0m\n\u001b[1;32m      4\u001b[0m \u001b[0mplt\u001b[0m\u001b[0;34m.\u001b[0m\u001b[0mplot\u001b[0m\u001b[0;34m(\u001b[0m\u001b[0mx\u001b[0m\u001b[0;34m,\u001b[0m\u001b[0my\u001b[0m\u001b[0;34m)\u001b[0m\u001b[0;34m\u001b[0m\u001b[0m\n\u001b[1;32m      5\u001b[0m \u001b[0mplt\u001b[0m\u001b[0;34m.\u001b[0m\u001b[0mshow\u001b[0m\u001b[0;34m(\u001b[0m\u001b[0;34m)\u001b[0m\u001b[0;34m\u001b[0m\u001b[0m\n",
      "\u001b[0;31mNameError\u001b[0m: name 'np' is not defined"
     ]
    }
   ],
   "source": [
    "x = np.linspace(-100,100, 100)\n",
    "y = 2*x**2 +  5\n",
    "plt.figure()\n",
    "plt.plot(x,y)\n",
    "plt.show()"
   ]
  },
  {
   "cell_type": "markdown",
   "metadata": {
    "id": "ybOmCn7xoTbs"
   },
   "source": [
    "# Toolbox specific exercises (TODO)\n",
    "Make your robot drive a straigth line of 2m\n",
    "\n",
    "Plot error ellips (with filterpy)\n"
   ]
  },
  {
   "cell_type": "code",
   "execution_count": 22,
   "metadata": {
    "colab": {
     "base_uri": "https://localhost:8080/",
     "height": 296
    },
    "executionInfo": {
     "elapsed": 560,
     "status": "ok",
     "timestamp": 1604053957491,
     "user": {
      "displayName": "Robin Amsters",
      "photoUrl": "",
      "userId": "05261837274179860375"
     },
     "user_tz": -60
    },
    "id": "AfwQf4Gz5brB",
    "outputId": "252b7b25-790d-4543-f9bc-4b88d8854076"
   },
   "outputs": [
    {
     "data": {
      "image/png": "[encoded data removed]",
      "text/plain": [
       "<Figure size 432x288 with 1 Axes>"
      ]
     },
     "metadata": {
      "needs_background": "light",
      "tags": []
     },
     "output_type": "display_data"
    }
   ],
   "source": [
    "from filterpy.stats import plot_covariance_ellipse\n",
    "import matplotlib.pyplot as plt\n",
    "\n",
    "P = [[2, 0], [0, 6]]\n",
    "plot_covariance_ellipse((2, 7), P, fc='g', alpha=0.2, \n",
    "                        std=[1],\n",
    "                        title='|2 0|\\n|0 6|')\n",
    "plt.gca().grid(b=False)"
   ]
  },
  {
   "cell_type": "markdown",
   "metadata": {
    "id": "9dNrBGb34K4z"
   },
   "source": [
    "# Dead reckoning (TODO)"
   ]
  }
 ],
 "metadata": {
  "colab": {
   "authorship_tag": "ABX9TyPMFfP8Gmr6PvoiozQGsKM1",
   "collapsed_sections": [],
   "name": "Session_1.ipynb",
   "provenance": []
  },
  "kernelspec": {
   "display_name": "Python 3",
   "language": "python",
   "name": "python3"
  },
  "language_info": {
   "codemirror_mode": {
    "name": "ipython",
    "version": 2
   },
   "file_extension": ".py",
   "mimetype": "text/x-python",
   "name": "python",
   "nbconvert_exporter": "python",
   "pygments_lexer": "ipython2",
   "version": "2.7.18"
  }
 },
 "nbformat": 4,
 "nbformat_minor": 1
}

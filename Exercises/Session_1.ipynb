{
 "cells": [
  {
   "cell_type": "markdown",
   "metadata": {
    "id": "Zdmew19RWv-4"
   },
   "source": [
    "# Exercise session 1 - Introduction and Dead Reckoning\n",
    "\n",
    "This exercise session is comprised of two parts. The goal of the first part is to familiarize you with the software that we will be using for the exercise sessions. Next, we'll take a look at one of the very first (and most basic) localization methods: dead reckoning. Your goal is to learn what this method actually is, what its limitations are and where we can and cannot use this method. You will also learn more about “error ellipses” and how to understand them.\n",
    "\n",
    "## Preparation\n",
    "\n",
    "In order to be productive during this exercise session, you will have to:\n",
    "\n",
    "* Read the getting started page\n",
    "* Read the turtlebot toolbox documentation\n",
    "* Study the part of “dead reckoning” of your course. Understanding the concept of error ellipses is important for this exercise session. An introductory text can be found on Toledo.\n",
    "\n",
    "## Questions to hand in before the session starts\n",
    "\n",
    "What is the difference between a function and a script (regular MATLAB-file)?\n",
    "\n",
    "1.   What function will you use to find out how far your robot has driven ?\n",
    "2.   Let’s assume a 1D movement: you are moving at 1m/s and every second, you\n",
    "know that you have an error of +/- 0.1m.\n",
    "3.   Draw the error “ellipses” of 3 steps (1 second between each step), starting from a certain intial position.\n",
    "4.   Are these still error ellipses (Or are they something else) ?\n",
    "5.   What can you conclude about your position after those 3 steps? And after 10 steps (no drawing required).\n"
   ]
  },
  {
   "cell_type": "markdown",
   "metadata": {
    "id": "Q1CYJtmv0dqy"
   },
   "source": [
    "# Introduction & warm up exercises\n",
    "First, we need to make sure that all neccesary libraries are installed (only required at the very beginning)"
   ]
  },
  {
   "cell_type": "code",
   "execution_count": null,
   "metadata": {
    "colab": {
     "base_uri": "https://localhost:8080/"
    },
    "executionInfo": {
     "elapsed": 6585,
     "status": "ok",
     "timestamp": 1604054315321,
     "user": {
      "displayName": "Robin Amsters",
      "photoUrl": "",
      "userId": "05261837274179860375"
     },
     "user_tz": -60
    },
    "id": "7iFXEeIHXXeZ",
    "outputId": "5a199c7a-6fd4-4d89-b25e-5291a46e329f"
   },
   "outputs": [],
   "source": [
    "# pip uninstall MobileRoboticsGT"
   ]
  },
  {
   "cell_type": "code",
   "execution_count": null,
   "metadata": {
    "colab": {
     "base_uri": "https://localhost:8080/"
    },
    "executionInfo": {
     "elapsed": 12758,
     "status": "ok",
     "timestamp": 1604054330662,
     "user": {
      "displayName": "Robin Amsters",
      "photoUrl": "",
      "userId": "05261837274179860375"
     },
     "user_tz": -60
    },
    "id": "Zl9hURz1OVKb",
    "outputId": "ef0834d1-eca3-446d-bf7f-e88e5a64943a"
   },
   "outputs": [],
   "source": [
    "#!python -m pip install git+https://github.com/RobinAmsters/Mobile_Robotics_Exercises.git\n",
    "#!pip install filterpy\n",
    "#!sudo apt install python3-gi gobject-introspection gir1.2-gtk-3.0"
   ]
  },
  {
   "cell_type": "code",
   "execution_count": 2,
   "metadata": {
    "executionInfo": {
     "elapsed": 558,
     "status": "ok",
     "timestamp": 1604053071796,
     "user": {
      "displayName": "Robin Amsters",
      "photoUrl": "",
      "userId": "05261837274179860375"
     },
     "user_tz": -60
    },
    "id": "NNLQAz0JAD3D"
   },
   "outputs": [],
   "source": [
    "import filterpy\n",
    "import matplotlib.pyplot as plt\n",
    "import numpy as np"
   ]
  },
  {
   "cell_type": "markdown",
   "metadata": {
    "id": "Ki68l7kal55V"
   },
   "source": [
    "To get a feel for how this works, we will now make a few introductory programming exercises. These should not take more than a few minutes each.\n",
    "\n",
    "## Write a program that will print the squares of the even numbers between 5 and 10."
   ]
  },
  {
   "cell_type": "code",
   "execution_count": null,
   "metadata": {
    "colab": {
     "base_uri": "https://localhost:8080/"
    },
    "executionInfo": {
     "elapsed": 671,
     "status": "ok",
     "timestamp": 1603979210220,
     "user": {
      "displayName": "Robin Amsters",
      "photoUrl": "",
      "userId": "05261837274179860375"
     },
     "user_tz": -60
    },
    "id": "pmNRG8OKALyd",
    "outputId": "cb1720a1-a9cf-49a9-8027-e0d5968fdd65"
   },
   "outputs": [],
   "source": [
    "# Solution 1\n",
    "for i in range(6,11, 2):\n",
    "  print(i**2)\n",
    "\n",
    "# Solution 2\n",
    "for i in range(5, 11):\n",
    "  if i%2==0:\n",
    "    print(i**2)"
   ]
  },
  {
   "cell_type": "markdown",
   "metadata": {
    "id": "pBlz__7lnMxB"
   },
   "source": [
    "## Plot a line graph of the following equation: $y=2x^2+5$\n"
   ]
  },
  {
   "cell_type": "code",
   "execution_count": null,
   "metadata": {
    "colab": {
     "base_uri": "https://localhost:8080/",
     "height": 265
    },
    "executionInfo": {
     "elapsed": 1031,
     "status": "ok",
     "timestamp": 1603984006710,
     "user": {
      "displayName": "Robin Amsters",
      "photoUrl": "",
      "userId": "05261837274179860375"
     },
     "user_tz": -60
    },
    "id": "23xSeo9qntdL",
    "outputId": "35623cc8-0623-4642-a2ea-963e2f34736c"
   },
   "outputs": [],
   "source": [
    "x = np.linspace(-100,100, 100)\n",
    "y = 2*x**2 +  5\n",
    "plt.figure()\n",
    "plt.plot(x,y)\n",
    "plt.show()"
   ]
  },
  {
   "cell_type": "markdown",
   "metadata": {
    "id": "ybOmCn7xoTbs"
   },
   "source": [
    "# Toolbox specific exercises/preparation (TODO)\n",
    "Make your robot drive a straigth line of 2m\n",
    "\n",
    "Plot error ellips (with filterpy)\n",
    "\n",
    "preparation/warmup: bar chart\n"
   ]
  },
  {
   "cell_type": "code",
   "execution_count": null,
   "metadata": {
    "colab": {
     "base_uri": "https://localhost:8080/",
     "height": 296
    },
    "executionInfo": {
     "elapsed": 560,
     "status": "ok",
     "timestamp": 1604053957491,
     "user": {
      "displayName": "Robin Amsters",
      "photoUrl": "",
      "userId": "05261837274179860375"
     },
     "user_tz": -60
    },
    "id": "AfwQf4Gz5brB",
    "outputId": "252b7b25-790d-4543-f9bc-4b88d8854076"
   },
   "outputs": [],
   "source": [
    "from filterpy.stats import plot_covariance_ellipse\n",
    "import matplotlib.pyplot as plt\n",
    "\n",
    "P = [[2, 0], [0, 6]]\n",
    "plot_covariance_ellipse((2, 7), P, fc='g', alpha=0.2, \n",
    "                        std=[1],\n",
    "                        title='|2 0|\\n|0 6|')\n",
    "#plt.gca().grid(b=True)"
   ]
  },
  {
   "cell_type": "markdown",
   "metadata": {},
   "source": [
    "# Bayes' Rule (TODO)"
   ]
  },
  {
   "cell_type": "markdown",
   "metadata": {},
   "source": [
    "# Discrete Bayes\n",
    "\n",
    "Simple estimator\n",
    "\n",
    "Will lead us to the Kalman filter (next session)\n",
    "\n",
    "During this session, we will be making exercises based on the 'dog tracking' example explained in the book \"Kalman and Bayesian Filters in Python\" by Roger Labbe. Further details can be found in chapter 2 - Discrete Bayes. The book also contains usefull theory about kalman filters, and is highly recommended as supplementary material. Similar to this course, the book is available in jupyter notebook format and can be freely downloaded here: https://github.com/rlabbe/Kalman-and-Bayesian-Filters-in-Python\n",
    "\n",
    "In these exercises, our aim is to track the location of a dog in a hallway. In order to keep the problem somewhat tractable, we will be using a few assumptions:\n",
    " - The position of the dog can be described by one variable (i.e. the distance from the beginning of the hallway).\n",
    " - Their are 10 unique positions in the hallway where our dog can be located.\n",
    " - The hallway is circular or rectangular. That means that whenever the dog reaches the last position in the hallway, moving forward will put him/her again at the beginning of the hallway."
   ]
  },
  {
   "cell_type": "markdown",
   "metadata": {},
   "source": [
    "## Predicting movement\n",
    "\n",
    "### Exercise 1\n",
    "\n",
    "Suppose you have a discrete initial distribution of the position of the dog (represented by x), given by:\n",
    "\n",
    "| 0.0 | 0.0 | 0.0 | 0.25 | 0.0 | 0.5 | 0.0 | 0.25 | 0.0 | 0.0 |\n",
    "|-----|------|-----|-----|-----|------|\n",
    "\n",
    "The prediction model of a movement step is given by:\n",
    "\n",
    "$p(x=k|x=k)$ = 0.4\n",
    "$p(x=k+1|x=k)$ = 0.2\n",
    "$p(x=k+2|x=k)$ = 0.1\n",
    "$p(x=k-1|x=k)$ = 0.2 \n",
    "$p(x=k-2|x=k)$ = 0.1\n",
    "\n",
    "Assume a movement $u = 2$ spaces. What will be the probability distribution after movement? First try to find the solution on paper, then adapt the code below to verify your result\n",
    "\n",
    "**TODO: code given should be adapted from predict_perfect (potentially with one or two p_under/over)**"
   ]
  },
  {
   "cell_type": "code",
   "execution_count": 20,
   "metadata": {},
   "outputs": [
    {
     "name": "stdout",
     "output_type": "stream",
     "text": [
      "[0.05  0.025 0.    0.025 0.05  0.15  0.15  0.25  0.15  0.15 ]\n"
     ]
    },
    {
     "data": {
      "image/png": "[encoded data removed]",
      "text/plain": [
       "<Figure size 648x288 with 2 Axes>"
      ]
     },
     "metadata": {
      "needs_background": "light"
     },
     "output_type": "display_data"
    }
   ],
   "source": [
    "import book_format\n",
    "from book_plots import bar_plot\n",
    "book_format.set_style()\n",
    "\n",
    "belief = [0.0, 0.0, 0.0, 0.25, 0.0, 0.5, 0.0, 0.25, 0.0, 0.0]\n",
    "n = len(belief)\n",
    "move=2\n",
    "p_minus_2 = 0.1\n",
    "p_minus_1 = 0.2\n",
    "p_correct = 0.4\n",
    "p_plus_1 = 0.2\n",
    "p_plus_2 = 0.1\n",
    "\n",
    "def predict_move(belief, move, p_minus_2, p_minus_1, p_correct, p_plus_1, p_plus_2):\n",
    "    n = len(belief)\n",
    "    prior = np.zeros(n)\n",
    "    for i in range(n):\n",
    "        prior[i] = (\n",
    "            belief[(i-move+2) % n] * p_minus_2 + \n",
    "            belief[(i-move+1) % n] * p_minus_1 + \n",
    "            belief[(i-move) % n]   * p_correct +\n",
    "            belief[(i-move-1) % n] * p_plus_1 +\n",
    "            belief[(i-move-2) % n] * p_plus_2)      \n",
    "    return prior\n",
    "\n",
    "prior = predict_move(belief, move, p_minus_2, p_minus_1, p_correct, p_plus_1, p_plus_2)\n",
    "print(prior)\n",
    "\n",
    "plt.subplot(121)\n",
    "bar_plot(belief, title='Before prediction', ylim=(0, .6), c=\"blue\")\n",
    "plt.subplot(122)\n",
    "bar_plot(prior, title='After prediction', ylim=(0, .6), c=\"orange\")"
   ]
  },
  {
   "cell_type": "markdown",
   "metadata": {},
   "source": [
    "### Exercise 2\n",
    "\n",
    "Let us now move on to a slightly more complicated example. Suppose you the initial distribution of the dog position x is given by:\n",
    "\n",
    "| 0.0 | 0.0 | 0.0 | 0.1 | 0.8 | 0.1 |0.0 | 0.0 |0.0 | 0.0 |\n",
    "|-----|------|-----|-----|-----|------|-----|------|-----|-----|-----|\n",
    "\n",
    "The prediction model of a movement step is given by:\n",
    "\n",
    "$p(x=k|x=k)$ = 0.6\n",
    "$p(x=k+1|x=k)$ = 0.15\n",
    "$p(x=k+2|x=k)$ = 0.04\n",
    "$p(x=k+3|x=k)$ = 0.01\n",
    "$p(x=k-1|x=k)$ = 0.15\n",
    "$p(x=k-2|x=k)$ = 0.04\n",
    "$p(x=k-3|x=k)$ = 0.01\n",
    "\n",
    "Assume a movement u = 1 is made every timestep. Extend your previous code to calculate the probality distribution after prediction. You do not need to calculate this example by hand. \n",
    "\n",
    "\n",
    "What will be the probability distribution after 2 movement steps?  What about after 5?\n",
    "\n",
    "**TODO: give them loop**"
   ]
  },
  {
   "cell_type": "code",
   "execution_count": null,
   "metadata": {},
   "outputs": [],
   "source": [
    "import book_format\n",
    "from book_plots import bar_plot\n",
    "book_format.set_style()\n",
    "\n",
    "belief = [0.0, 0.0, 0.0, 0.1, 0.8, 0.1, 0.0, 0.0, 0.0, 0.0]\n",
    "n = len(belief)\n",
    "move=1\n",
    "p_minus_3 = 0.01\n",
    "p_minus_2 = 0.04\n",
    "p_minus_1 = 0.15\n",
    "p_correct = 0.6\n",
    "p_plus_1 = 0.15\n",
    "p_plus_2 = 0.04\n",
    "p_plus_3 = 0.01\n",
    "\n",
    "def predict_move(belief, move, p_minus_3, p_minus_2, p_minus_1, p_correct, p_plus_1, p_plus_2, p_plus_3):\n",
    "    n = len(belief)\n",
    "    prior = np.zeros(n)\n",
    "    for i in range(n):\n",
    "        prior[i] = (\n",
    "            belief[(i-move+3) % n] * p_minus_3 +\n",
    "            belief[(i-move+2) % n] * p_minus_2 + \n",
    "            belief[(i-move+1) % n] * p_minus_1 + \n",
    "            belief[(i-move) % n]   * p_correct +\n",
    "            belief[(i-move-1) % n] * p_plus_1 +\n",
    "            belief[(i-move-2) % n] * p_plus_2 +\n",
    "            belief[(i-move-3) % n] * p_plus_3)      \n",
    "    return prior\n",
    "\n",
    "plt.subplot(121)\n",
    "bar_plot(belief, title='Before prediction', ylim=(0, .6), c=\"blue\")\n",
    "\n",
    "n_predictions = 5\n",
    "prior = belief\n",
    "print(\"Number of prediction steps: \", n_predictions)\n",
    "\n",
    "for i in range(n_predictions):\n",
    "    prior = predict_move(prior, move, p_minus_3, p_minus_2, p_minus_1, p_correct, p_plus_1, p_plus_2, p_plus_3)\n",
    "print(prior)\n",
    "\n",
    "\n",
    "plt.subplot(122)\n",
    "bar_plot(prior, title='After ' + str(n_predictions) + ' predictions', ylim=(0, .6), c=\"orange\")"
   ]
  },
  {
   "cell_type": "markdown",
   "metadata": {
    "id": "9dNrBGb34K4z"
   },
   "source": [
    "# Dead reckoning (TODO)\n",
    "\n",
    "Let us now go to a more practical example: robot localization. We saw that prediction reduces accuracy, lets look at some practical consequences of that.\n",
    "\n",
    "ideas: \n",
    " - robot can drive into something?\n",
    " - (evolution of) uncertainty ellipses\n",
    "\n",
    "For the purpose of this example, we are technically not using a discrete bayes filter. Rather, a kalman filter with no updates (learn what KF is later, for now, is multidimensional estimator). For the purposes of our example, the distinction is not so imporant, as the overall idea is the same. \n"
   ]
  },
  {
   "cell_type": "markdown",
   "metadata": {},
   "source": [
    "# Incorporating measurements \n",
    "As we saw before, only predition not great. How do we solve it? By adding information. \n",
    "\n",
    "Lets assume our dog has a sensor tied to its back, that can detect the presence of a door. The sensor is very simple, and returns a \"1\" when the dog stands next to a door, and a \"0\" when there is no door. In the following exercises, we will improve our location estimator by including this information. \n",
    "\n",
    "\n",
    "Ex4: can you see what happens when we don't have regular observations?\n",
    "\n",
    "\n",
    "### Exercise 3\n",
    "Now let's create a map of the hallway. We'll place the first two doors close together, and then another door further away. "
   ]
  },
  {
   "cell_type": "code",
   "execution_count": 22,
   "metadata": {},
   "outputs": [],
   "source": [
    "hallway = np.array([1, 1, 0, 0, 0, 0, 0, 0, 1, 0])"
   ]
  },
  {
   "cell_type": "markdown",
   "metadata": {},
   "source": [
    "Based on the first sensor reading, we can intialize our probability distribution. Complete the code below to obtain the initial probability distribution:\n",
    "\n",
    "**TODO give them some basics for counting doors etc**"
   ]
  },
  {
   "cell_type": "code",
   "execution_count": 48,
   "metadata": {},
   "outputs": [
    {
     "data": {
      "image/png": "[encoded data removed]",
      "text/plain": [
       "<Figure size 432x288 with 2 Axes>"
      ]
     },
     "metadata": {
      "needs_background": "light"
     },
     "output_type": "display_data"
    }
   ],
   "source": [
    "import book_plots\n",
    "import numpy \n",
    "\n",
    "def initial_distribution(z_0, hallway):\n",
    "    \"\"\"\n",
    "        Calculate the initial probability distribution\n",
    "        z_0: first measurement returned by sensor\n",
    "        hallway: layout of the hallway. \"1\" represents a door at that location, \"0\" indicates a wall.\n",
    "    \"\"\"\n",
    "       \n",
    "    if z_0 == 0:\n",
    "        n_wall = len(np.where(hallway == 0)[0]) # Count number of zeros in hallway\n",
    "        hallway_flipped = 1 - hallway # Switch ones and zeros\n",
    "        belief = (1.0/n_wall)*hallway_flipped\n",
    "        \n",
    "    elif z_0 == 1:\n",
    "        \n",
    "        n_door = len(np.where(hallway)[0]) # Count number of ones in hallway\n",
    "        belief = (1.0/n_door)*hallway\n",
    "        \n",
    "    else:\n",
    "        print(\"Initial measurement invalid\")\n",
    "        belief = np.nan\n",
    "        \n",
    "    return belief\n",
    "\n",
    "# Initial distribution when a wall is measured\n",
    "belief_0 = initial_distribution(0, hallway)\n",
    "\n",
    "# Initial distribution when a door is measured\n",
    "belief_1 = initial_distribution(1, hallway)\n",
    "\n",
    "plt.subplot(121)\n",
    "book_plots.bar_plot(belief_0, title='Initial measurement = 0', ylim=(0, .6))\n",
    "plt.subplot(122)\n",
    "book_plots.bar_plot(belief_1, title='Initial measurement = 1 ', ylim=(0, .6))"
   ]
  },
  {
   "cell_type": "markdown",
   "metadata": {},
   "source": [
    "### Exercise 4\n",
    "Now that we have our initial distribution, we need to keep it up to date as new information comes in. \n",
    "\n",
    "Lets say our dog is stationary for now, "
   ]
  },
  {
   "cell_type": "code",
   "execution_count": 83,
   "metadata": {},
   "outputs": [
    {
     "name": "stdout",
     "output_type": "stream",
     "text": [
      "('belief:', array([0.1875, 0.1875, 0.0625, 0.0625, 0.0625, 0.0625, 0.0625, 0.0625,\n",
      "       0.1875, 0.0625]))\n",
      "('sum =', 1.0)\n"
     ]
    },
    {
     "data": {
      "image/png": "[encoded data removed]",
      "text/plain": [
       "<Figure size 432x288 with 1 Axes>"
      ]
     },
     "metadata": {
      "needs_background": "light"
     },
     "output_type": "display_data"
    }
   ],
   "source": [
    "from filterpy.discrete_bayes import normalize\n",
    "def update(hall, belief, z, z_prob): \n",
    "    scale = z_prob / (1. - z_prob)\n",
    "    belief[hall==z] *= scale\n",
    "    normalize(belief)\n",
    "    return belief\n",
    "\n",
    "belief = np.array([0.1] * 10)\n",
    "reading = 1 # 1 is 'door'\n",
    "belief = update(hallway, belief, z=reading, z_prob=0.75)\n",
    "print('belief:', belief)\n",
    "print('sum =', sum(belief))\n",
    "plt.figure()\n",
    "book_plots.bar_plot(belief)"
   ]
  },
  {
   "cell_type": "markdown",
   "metadata": {},
   "source": [
    "## Putting it all together\n",
    "\n",
    "We have already programmed the update and predict steps. All we need to do is feed the result of one into the other, and we will have implemented a dog tracker!!! Let's see how it performs. We will input measurements as if the dog started at position 0 and moved right one position each epoch. As in a real world application, we will start with no knowledge of his position by assigning equal probability to all positions. \n",
    "\n",
    "### Exercise 5\n",
    "\n",
    "Make a complete loop below:\n",
    "\n",
    "Step trough the different iterations and check if everything is working as expected:"
   ]
  },
  {
   "cell_type": "code",
   "execution_count": 86,
   "metadata": {},
   "outputs": [
    {
     "data": {
      "image/png": "[encoded data removed]",
      "text/plain": [
       "<Figure size 432x288 with 2 Axes>"
      ]
     },
     "metadata": {
      "needs_background": "light"
     },
     "output_type": "display_data"
    }
   ],
   "source": [
    "import book_plots\n",
    "\n",
    "def predict_move(belief, move, p_under, p_correct, p_over):\n",
    "    n = len(belief)\n",
    "    prior = np.zeros(n)\n",
    "    for i in range(n):\n",
    "        prior[i] = (\n",
    "            belief[(i-move) % n]   * p_correct +\n",
    "            belief[(i-move-1) % n] * p_over +\n",
    "            belief[(i-move+1) % n] * p_under)      \n",
    "    return prior\n",
    "\n",
    "# def update(hall, belief, z, z_prob): \n",
    "#     scale = z_prob / (1. - z_prob)\n",
    "#     belief[hall==z] *= scale\n",
    "#     normalize(belief)\n",
    "#     return belief\n",
    "\n",
    "hallway = np.array([1, 1, 0, 0, 0, 0, 0, 0, 1, 0])\n",
    "belief = initial_distribution(1, hallway)\n",
    "\n",
    "move = 1\n",
    "p_correct = 0.8\n",
    "p_under = 0.1\n",
    "p_over = 0.1\n",
    "\n",
    "prior = belief\n",
    "for i in range(3):\n",
    "    prior = predict_move(prior, move, p_under, p_correct, p_over)\n",
    "    posterior = update(hallway, prior, hallway[i], 0.75)\n",
    "    prior = posterior\n",
    "    \n",
    "book_plots.plot_prior_vs_posterior(belief, posterior, ylim=(0,.5))"
   ]
  },
  {
   "cell_type": "markdown",
   "metadata": {},
   "source": [
    "# Further reading\n",
    "\n",
    "Kalman and Bayesian Filters in python, chapter 2: Discrete-Bayes\n",
    "\n",
    "Taboga, Marco (2017). \"Bayes' rule\", Lectures on probability theory and mathematical statistics, Third edition. Kindle Direct Publishing. Online appendix. https://www.statlect.com/fundamentals-of-probability/Bayes-rule.\n",
    "\n",
    "http://gtribello.github.io/mathNET/bayes-theorem-problems.html\n",
    "\n",
    "\n"
   ]
  }
 ],
 "metadata": {
  "colab": {
   "authorship_tag": "ABX9TyPMFfP8Gmr6PvoiozQGsKM1",
   "collapsed_sections": [],
   "name": "Session_1.ipynb",
   "provenance": []
  },
  "kernelspec": {
   "display_name": "Python 3",
   "language": "python",
   "name": "python3"
  },
  "language_info": {
   "codemirror_mode": {
    "name": "ipython",
    "version": 2
   },
   "file_extension": ".py",
   "mimetype": "text/x-python",
   "name": "python",
   "nbconvert_exporter": "python",
   "pygments_lexer": "ipython2",
   "version": "2.7.18"
  }
 },
 "nbformat": 4,
 "nbformat_minor": 1
}

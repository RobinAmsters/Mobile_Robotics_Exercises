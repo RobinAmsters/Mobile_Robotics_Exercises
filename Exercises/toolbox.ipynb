{
 "cells": [
  {
   "cell_type": "code",
   "execution_count": 1,
   "metadata": {
    "colab": {
     "base_uri": "https://localhost:8080/",
     "height": 542
    },
    "executionInfo": {
     "elapsed": 2477,
     "status": "ok",
     "timestamp": 1604395499987,
     "user": {
      "displayName": "Robin Amsters",
      "photoUrl": "",
      "userId": "05261837274179860375"
     },
     "user_tz": -60
    },
    "id": "jGzr55jmzQJ5",
    "outputId": "07f74aec-7c89-40ba-c74b-3c8b69c75d18"
   },
   "outputs": [
    {
     "data": {
      "text/html": [
       "        <script type=\"text/javascript\">\n",
       "        window.PlotlyConfig = {MathJaxConfig: 'local'};\n",
       "        if (window.MathJax) {MathJax.Hub.Config({SVG: {font: \"STIX-Web\"}});}\n",
       "        if (typeof require !== 'undefined') {\n",
       "        require.undef(\"plotly\");\n",
       "        requirejs.config({\n",
       "            paths: {\n",
       "                'plotly': ['https://cdn.plot.ly/plotly-latest.min']\n",
       "            }\n",
       "        });\n",
       "        require(['plotly'], function(Plotly) {\n",
       "            window._Plotly = Plotly;\n",
       "        });\n",
       "        }\n",
       "        </script>\n",
       "        "
      ]
     },
     "metadata": {},
     "output_type": "display_data"
    },
    {
     "data": {
      "text/html": [
       "<div>\n",
       "        \n",
       "        \n",
       "            <div id=\"68475368-00be-48c6-8d23-17658c921e80\" class=\"plotly-graph-div\" style=\"height:525px; width:100%;\"></div>\n",
       "            <script type=\"text/javascript\">\n",
       "                require([\"plotly\"], function(Plotly) {\n",
       "                    window.PLOTLYENV=window.PLOTLYENV || {};\n",
       "                    \n",
       "                if (document.getElementById(\"68475368-00be-48c6-8d23-17658c921e80\")) {\n",
       "                    Plotly.newPlot(\n",
       "                        '68475368-00be-48c6-8d23-17658c921e80',\n",
       "                        [{\"marker\": {\"color\": [0], \"line\": {\"color\": \"Black\", \"width\": 5}, \"size\": [20, 0]}, \"type\": \"scatter\", \"x\": [0.0, 1.0], \"y\": [0.0, 0.0]}],\n",
       "                        {\"template\": {\"data\": {\"bar\": [{\"error_x\": {\"color\": \"#2a3f5f\"}, \"error_y\": {\"color\": \"#2a3f5f\"}, \"marker\": {\"line\": {\"color\": \"#E5ECF6\", \"width\": 0.5}}, \"type\": \"bar\"}], \"barpolar\": [{\"marker\": {\"line\": {\"color\": \"#E5ECF6\", \"width\": 0.5}}, \"type\": \"barpolar\"}], \"carpet\": [{\"aaxis\": {\"endlinecolor\": \"#2a3f5f\", \"gridcolor\": \"white\", \"linecolor\": \"white\", \"minorgridcolor\": \"white\", \"startlinecolor\": \"#2a3f5f\"}, \"baxis\": {\"endlinecolor\": \"#2a3f5f\", \"gridcolor\": \"white\", \"linecolor\": \"white\", \"minorgridcolor\": \"white\", \"startlinecolor\": \"#2a3f5f\"}, \"type\": \"carpet\"}], \"choropleth\": [{\"colorbar\": {\"outlinewidth\": 0, \"ticks\": \"\"}, \"type\": \"choropleth\"}], \"contour\": [{\"colorbar\": {\"outlinewidth\": 0, \"ticks\": \"\"}, \"colorscale\": [[0.0, \"#0d0887\"], [0.1111111111111111, \"#46039f\"], [0.2222222222222222, \"#7201a8\"], [0.3333333333333333, \"#9c179e\"], [0.4444444444444444, \"#bd3786\"], [0.5555555555555556, \"#d8576b\"], [0.6666666666666666, \"#ed7953\"], [0.7777777777777778, \"#fb9f3a\"], [0.8888888888888888, \"#fdca26\"], [1.0, \"#f0f921\"]], \"type\": \"contour\"}], \"contourcarpet\": [{\"colorbar\": {\"outlinewidth\": 0, \"ticks\": \"\"}, \"type\": \"contourcarpet\"}], \"heatmap\": [{\"colorbar\": {\"outlinewidth\": 0, \"ticks\": \"\"}, \"colorscale\": [[0.0, \"#0d0887\"], [0.1111111111111111, \"#46039f\"], [0.2222222222222222, \"#7201a8\"], [0.3333333333333333, \"#9c179e\"], [0.4444444444444444, \"#bd3786\"], [0.5555555555555556, \"#d8576b\"], [0.6666666666666666, \"#ed7953\"], [0.7777777777777778, \"#fb9f3a\"], [0.8888888888888888, \"#fdca26\"], [1.0, \"#f0f921\"]], \"type\": \"heatmap\"}], \"heatmapgl\": [{\"colorbar\": {\"outlinewidth\": 0, \"ticks\": \"\"}, \"colorscale\": [[0.0, \"#0d0887\"], [0.1111111111111111, \"#46039f\"], [0.2222222222222222, \"#7201a8\"], [0.3333333333333333, \"#9c179e\"], [0.4444444444444444, \"#bd3786\"], [0.5555555555555556, \"#d8576b\"], [0.6666666666666666, \"#ed7953\"], [0.7777777777777778, \"#fb9f3a\"], [0.8888888888888888, \"#fdca26\"], [1.0, \"#f0f921\"]], \"type\": \"heatmapgl\"}], \"histogram\": [{\"marker\": {\"colorbar\": {\"outlinewidth\": 0, \"ticks\": \"\"}}, \"type\": \"histogram\"}], \"histogram2d\": [{\"colorbar\": {\"outlinewidth\": 0, \"ticks\": \"\"}, \"colorscale\": [[0.0, \"#0d0887\"], [0.1111111111111111, \"#46039f\"], [0.2222222222222222, \"#7201a8\"], [0.3333333333333333, \"#9c179e\"], [0.4444444444444444, \"#bd3786\"], [0.5555555555555556, \"#d8576b\"], [0.6666666666666666, \"#ed7953\"], [0.7777777777777778, \"#fb9f3a\"], [0.8888888888888888, \"#fdca26\"], [1.0, \"#f0f921\"]], \"type\": \"histogram2d\"}], \"histogram2dcontour\": [{\"colorbar\": {\"outlinewidth\": 0, \"ticks\": \"\"}, \"colorscale\": [[0.0, \"#0d0887\"], [0.1111111111111111, \"#46039f\"], [0.2222222222222222, \"#7201a8\"], [0.3333333333333333, \"#9c179e\"], [0.4444444444444444, \"#bd3786\"], [0.5555555555555556, \"#d8576b\"], [0.6666666666666666, \"#ed7953\"], [0.7777777777777778, \"#fb9f3a\"], [0.8888888888888888, \"#fdca26\"], [1.0, \"#f0f921\"]], \"type\": \"histogram2dcontour\"}], \"mesh3d\": [{\"colorbar\": {\"outlinewidth\": 0, \"ticks\": \"\"}, \"type\": \"mesh3d\"}], \"parcoords\": [{\"line\": {\"colorbar\": {\"outlinewidth\": 0, \"ticks\": \"\"}}, \"type\": \"parcoords\"}], \"pie\": [{\"automargin\": true, \"type\": \"pie\"}], \"scatter\": [{\"marker\": {\"colorbar\": {\"outlinewidth\": 0, \"ticks\": \"\"}}, \"type\": \"scatter\"}], \"scatter3d\": [{\"line\": {\"colorbar\": {\"outlinewidth\": 0, \"ticks\": \"\"}}, \"marker\": {\"colorbar\": {\"outlinewidth\": 0, \"ticks\": \"\"}}, \"type\": \"scatter3d\"}], \"scattercarpet\": [{\"marker\": {\"colorbar\": {\"outlinewidth\": 0, \"ticks\": \"\"}}, \"type\": \"scattercarpet\"}], \"scattergeo\": [{\"marker\": {\"colorbar\": {\"outlinewidth\": 0, \"ticks\": \"\"}}, \"type\": \"scattergeo\"}], \"scattergl\": [{\"marker\": {\"colorbar\": {\"outlinewidth\": 0, \"ticks\": \"\"}}, \"type\": \"scattergl\"}], \"scattermapbox\": [{\"marker\": {\"colorbar\": {\"outlinewidth\": 0, \"ticks\": \"\"}}, \"type\": \"scattermapbox\"}], \"scatterpolar\": [{\"marker\": {\"colorbar\": {\"outlinewidth\": 0, \"ticks\": \"\"}}, \"type\": \"scatterpolar\"}], \"scatterpolargl\": [{\"marker\": {\"colorbar\": {\"outlinewidth\": 0, \"ticks\": \"\"}}, \"type\": \"scatterpolargl\"}], \"scatterternary\": [{\"marker\": {\"colorbar\": {\"outlinewidth\": 0, \"ticks\": \"\"}}, \"type\": \"scatterternary\"}], \"surface\": [{\"colorbar\": {\"outlinewidth\": 0, \"ticks\": \"\"}, \"colorscale\": [[0.0, \"#0d0887\"], [0.1111111111111111, \"#46039f\"], [0.2222222222222222, \"#7201a8\"], [0.3333333333333333, \"#9c179e\"], [0.4444444444444444, \"#bd3786\"], [0.5555555555555556, \"#d8576b\"], [0.6666666666666666, \"#ed7953\"], [0.7777777777777778, \"#fb9f3a\"], [0.8888888888888888, \"#fdca26\"], [1.0, \"#f0f921\"]], \"type\": \"surface\"}], \"table\": [{\"cells\": {\"fill\": {\"color\": \"#EBF0F8\"}, \"line\": {\"color\": \"white\"}}, \"header\": {\"fill\": {\"color\": \"#C8D4E3\"}, \"line\": {\"color\": \"white\"}}, \"type\": \"table\"}]}, \"layout\": {\"annotationdefaults\": {\"arrowcolor\": \"#2a3f5f\", \"arrowhead\": 0, \"arrowwidth\": 1}, \"coloraxis\": {\"colorbar\": {\"outlinewidth\": 0, \"ticks\": \"\"}}, \"colorscale\": {\"diverging\": [[0, \"#8e0152\"], [0.1, \"#c51b7d\"], [0.2, \"#de77ae\"], [0.3, \"#f1b6da\"], [0.4, \"#fde0ef\"], [0.5, \"#f7f7f7\"], [0.6, \"#e6f5d0\"], [0.7, \"#b8e186\"], [0.8, \"#7fbc41\"], [0.9, \"#4d9221\"], [1, \"#276419\"]], \"sequential\": [[0.0, \"#0d0887\"], [0.1111111111111111, \"#46039f\"], [0.2222222222222222, \"#7201a8\"], [0.3333333333333333, \"#9c179e\"], [0.4444444444444444, \"#bd3786\"], [0.5555555555555556, \"#d8576b\"], [0.6666666666666666, \"#ed7953\"], [0.7777777777777778, \"#fb9f3a\"], [0.8888888888888888, \"#fdca26\"], [1.0, \"#f0f921\"]], \"sequentialminus\": [[0.0, \"#0d0887\"], [0.1111111111111111, \"#46039f\"], [0.2222222222222222, \"#7201a8\"], [0.3333333333333333, \"#9c179e\"], [0.4444444444444444, \"#bd3786\"], [0.5555555555555556, \"#d8576b\"], [0.6666666666666666, \"#ed7953\"], [0.7777777777777778, \"#fb9f3a\"], [0.8888888888888888, \"#fdca26\"], [1.0, \"#f0f921\"]]}, \"colorway\": [\"#636efa\", \"#EF553B\", \"#00cc96\", \"#ab63fa\", \"#FFA15A\", \"#19d3f3\", \"#FF6692\", \"#B6E880\", \"#FF97FF\", \"#FECB52\"], \"font\": {\"color\": \"#2a3f5f\"}, \"geo\": {\"bgcolor\": \"white\", \"lakecolor\": \"white\", \"landcolor\": \"#E5ECF6\", \"showlakes\": true, \"showland\": true, \"subunitcolor\": \"white\"}, \"hoverlabel\": {\"align\": \"left\"}, \"hovermode\": \"closest\", \"mapbox\": {\"style\": \"light\"}, \"paper_bgcolor\": \"white\", \"plot_bgcolor\": \"#E5ECF6\", \"polar\": {\"angularaxis\": {\"gridcolor\": \"white\", \"linecolor\": \"white\", \"ticks\": \"\"}, \"bgcolor\": \"#E5ECF6\", \"radialaxis\": {\"gridcolor\": \"white\", \"linecolor\": \"white\", \"ticks\": \"\"}}, \"scene\": {\"xaxis\": {\"backgroundcolor\": \"#E5ECF6\", \"gridcolor\": \"white\", \"gridwidth\": 2, \"linecolor\": \"white\", \"showbackground\": true, \"ticks\": \"\", \"zerolinecolor\": \"white\"}, \"yaxis\": {\"backgroundcolor\": \"#E5ECF6\", \"gridcolor\": \"white\", \"gridwidth\": 2, \"linecolor\": \"white\", \"showbackground\": true, \"ticks\": \"\", \"zerolinecolor\": \"white\"}, \"zaxis\": {\"backgroundcolor\": \"#E5ECF6\", \"gridcolor\": \"white\", \"gridwidth\": 2, \"linecolor\": \"white\", \"showbackground\": true, \"ticks\": \"\", \"zerolinecolor\": \"white\"}}, \"shapedefaults\": {\"line\": {\"color\": \"#2a3f5f\"}}, \"ternary\": {\"aaxis\": {\"gridcolor\": \"white\", \"linecolor\": \"white\", \"ticks\": \"\"}, \"baxis\": {\"gridcolor\": \"white\", \"linecolor\": \"white\", \"ticks\": \"\"}, \"bgcolor\": \"#E5ECF6\", \"caxis\": {\"gridcolor\": \"white\", \"linecolor\": \"white\", \"ticks\": \"\"}}, \"title\": {\"x\": 0.05}, \"xaxis\": {\"automargin\": true, \"gridcolor\": \"white\", \"linecolor\": \"white\", \"ticks\": \"\", \"title\": {\"standoff\": 15}, \"zerolinecolor\": \"white\", \"zerolinewidth\": 2}, \"yaxis\": {\"automargin\": true, \"gridcolor\": \"white\", \"linecolor\": \"white\", \"ticks\": \"\", \"title\": {\"standoff\": 15}, \"zerolinecolor\": \"white\", \"zerolinewidth\": 2}}}, \"title\": {\"text\": \"Robot pose\"}, \"updatemenus\": [{\"buttons\": [{\"args\": [null], \"label\": \"Play\", \"method\": \"animate\"}], \"type\": \"buttons\"}], \"xaxis\": {\"autorange\": false, \"range\": [-20, 20]}, \"yaxis\": {\"autorange\": false, \"scaleanchor\": \"x\", \"scaleratio\": 1}},\n",
       "                        {\"responsive\": true}\n",
       "                    ).then(function(){\n",
       "                            Plotly.addFrames('68475368-00be-48c6-8d23-17658c921e80', [{\"data\": [{\"marker\": {\"color\": [0], \"line\": {\"color\": \"Black\", \"width\": 5}, \"size\": [20, 0]}, \"x\": [0.0, 1.0], \"type\": \"scatter\", \"y\": [0.0, 0.0]}]}, {\"data\": [{\"marker\": {\"color\": [0], \"line\": {\"color\": \"Black\", \"width\": 5}, \"size\": [20, 0]}, \"x\": [1.05906574499234, 2.0494269984637414], \"type\": \"scatter\", \"y\": [0.05906574499233991, -0.07944269382116653]}]}, {\"data\": [{\"marker\": {\"color\": [0], \"line\": {\"color\": \"Black\", \"width\": 5}, \"size\": [20, 0]}, \"x\": [2.092380578390884, 3.0002341338549523], \"type\": \"scatter\", \"y\": [0.09238057839088398, -0.3269068192628615]}]}, {\"data\": [{\"marker\": {\"color\": [0], \"line\": {\"color\": \"Black\", \"width\": 5}, \"size\": [20, 0]}, \"x\": [3.1181977804204406, 4.116522039098273], \"type\": \"scatter\", \"y\": [0.11819778042044067, 0.06033004730987385]}]}, {\"data\": [{\"marker\": {\"color\": [0], \"line\": {\"color\": \"Black\", \"width\": 5}, \"size\": [20, 0]}, \"x\": [4.068718244775075, 5.060489370272956], \"type\": \"scatter\", \"y\": [0.06871824477507535, 0.19674181537309818]}]}, {\"data\": [{\"marker\": {\"color\": [0], \"line\": {\"color\": \"Black\", \"width\": 5}, \"size\": [20, 0]}, \"x\": [5.052179823679947, 6.0521704263160965], \"type\": \"scatter\", \"y\": [0.052179823679946696, 0.0478445452123634]}]}, {\"data\": [{\"marker\": {\"color\": [0], \"line\": {\"color\": \"Black\", \"width\": 5}, \"size\": [20, 0]}, \"x\": [5.887224923403914, 6.832585115585066], \"type\": \"scatter\", \"y\": [-0.1127750765960864, -0.43880284694581606]}]}, {\"data\": [{\"marker\": {\"color\": [0], \"line\": {\"color\": \"Black\", \"width\": 5}, \"size\": [20, 0]}, \"x\": [7.025629341648067, 8.001468305824316], \"type\": \"scatter\", \"y\": [0.025629341648066517, 0.24412033916380615]}]}, {\"data\": [{\"marker\": {\"color\": [0], \"line\": {\"color\": \"Black\", \"width\": 5}, \"size\": [20, 0]}, \"x\": [7.845933601747863, 8.813225117835533], \"type\": \"scatter\", \"y\": [-0.15406639825213764, 0.09960094869030395]}]}, {\"data\": [{\"marker\": {\"color\": [0], \"line\": {\"color\": \"Black\", \"width\": 5}, \"size\": [20, 0]}, \"x\": [9.007115469905251, 9.969307790898153], \"type\": \"scatter\", \"y\": [0.0071154699052513315, 0.2794864254462065]}]}, {\"data\": [{\"marker\": {\"color\": [0], \"line\": {\"color\": \"Black\", \"width\": 5}, \"size\": [20, 0]}, \"x\": [9.944851914997669, 10.876306904518318], \"type\": \"scatter\", \"y\": [-0.05514808500233197, 0.3087084835752967]}]}, {\"data\": [{\"marker\": {\"color\": [0], \"line\": {\"color\": \"Black\", \"width\": 5}, \"size\": [20, 0]}, \"x\": [10.91312812422459, 11.414144001382693], \"type\": \"scatter\", \"y\": [-0.08687187577540981, 0.7785662160806721]}]}, {\"data\": [{\"marker\": {\"color\": [0], \"line\": {\"color\": \"Black\", \"width\": 5}, \"size\": [20, 0]}, \"x\": [11.992256435240169, 11.847968297707585], \"type\": \"scatter\", \"y\": [-0.007743564759831123, 0.981792151304717]}]}, {\"data\": [{\"marker\": {\"color\": [0], \"line\": {\"color\": \"Black\", \"width\": 5}, \"size\": [20, 0]}, \"x\": [13.006390463543553, 13.045908239608078], \"type\": \"scatter\", \"y\": [0.006390463543554256, 1.0056093311471008]}]}, {\"data\": [{\"marker\": {\"color\": [0], \"line\": {\"color\": \"Black\", \"width\": 5}, \"size\": [20, 0]}, \"x\": [13.94192251828697, 13.889926477353587], \"type\": \"scatter\", \"y\": [-0.05807748171302893, 0.9405698092397148]}]}, {\"data\": [{\"marker\": {\"color\": [0], \"line\": {\"color\": \"Black\", \"width\": 5}, \"size\": [20, 0]}, \"x\": [14.94512878894456, 15.184977070545019], \"type\": \"scatter\", \"y\": [-0.054871211055439115, 0.9159391730120713]}]}, {\"data\": [{\"marker\": {\"color\": [0], \"line\": {\"color\": \"Black\", \"width\": 5}, \"size\": [20, 0]}, \"x\": [15.983586050146503, 16.356919379943278], \"type\": \"scatter\", \"y\": [-0.016413949853497062, 0.9112833201989978]}]}, {\"data\": [{\"marker\": {\"color\": [0], \"line\": {\"color\": \"Black\", \"width\": 5}, \"size\": [20, 0]}, \"x\": [16.934344011375533, 17.09463217800844], \"type\": \"scatter\", \"y\": [-0.0656559886244662, 0.9214142741417977]}]}, {\"data\": [{\"marker\": {\"color\": [0], \"line\": {\"color\": \"Black\", \"width\": 5}, \"size\": [20, 0]}, \"x\": [17.776998400357286, 17.880898517545113], \"type\": \"scatter\", \"y\": [-0.22300159964271468, 0.7715861368835085]}]}, {\"data\": [{\"marker\": {\"color\": [0], \"line\": {\"color\": \"Black\", \"width\": 5}, \"size\": [20, 0]}, \"x\": [18.682064959217605, 18.98184855029129], \"type\": \"scatter\", \"y\": [-0.31793504078239665, 0.6360721911204681]}]}]);\n",
       "                        }).then(function(){\n",
       "                            \n",
       "var gd = document.getElementById('68475368-00be-48c6-8d23-17658c921e80');\n",
       "var x = new MutationObserver(function (mutations, observer) {{\n",
       "        var display = window.getComputedStyle(gd).display;\n",
       "        if (!display || display === 'none') {{\n",
       "            console.log([gd, 'removed!']);\n",
       "            Plotly.purge(gd);\n",
       "            observer.disconnect();\n",
       "        }}\n",
       "}});\n",
       "\n",
       "// Listen for the removal of the full notebook cells\n",
       "var notebookContainer = gd.closest('#notebook-container');\n",
       "if (notebookContainer) {{\n",
       "    x.observe(notebookContainer, {childList: true});\n",
       "}}\n",
       "\n",
       "// Listen for the clearing of the current output cell\n",
       "var outputEl = gd.closest('.output');\n",
       "if (outputEl) {{\n",
       "    x.observe(outputEl, {childList: true});\n",
       "}}\n",
       "\n",
       "                        })\n",
       "                };\n",
       "                });\n",
       "            </script>\n",
       "        </div>"
      ]
     },
     "metadata": {},
     "output_type": "display_data"
    }
   ],
   "source": [
    "import numpy as np\n",
    "import plotly.express as px\n",
    "import plotly.graph_objects as go\n",
    "import plotly.io as pio\n",
    "\n",
    "#pio.renderers.default = 'colab' # For online use in google colab\n",
    "pio.renderers.default = 'notebook_connected' # For offline use in jupyter notebook\n",
    "\n",
    "def get_robot_pose_scatter(robot_pose):\n",
    "  scatter = go.Scatter(x=[robot_pose[0], robot_pose[0]+np.cos(robot_pose[2])], \n",
    "                     y=[robot_pose[1], robot_pose[1]+np.sin(robot_pose[2])],\n",
    "                     marker=dict(size=[20, 0], line=dict(width=5,\n",
    "                                                color='Black'),\n",
    "                                               color=[0]))\n",
    "  return scatter\n",
    "\n",
    "def get_robot_pose_frame(robot_pose):\n",
    "  frame = go.Frame(data=get_robot_pose_scatter(robot_pose))\n",
    "  return frame\n",
    "\n",
    "def plot_robot_poses(robot_poses):\n",
    "  frames = []\n",
    "\n",
    "  for index, row in robot_poses.iterrows():\n",
    "    robot_pose = [row[\"x\"],row[\"y\"],row[\"theta\"]]\n",
    "\n",
    "    frames.append(get_robot_pose_frame(robot_pose))\n",
    "\n",
    "  fig = go.Figure(\n",
    "      data=[get_robot_pose_scatter([robot_poses[\"x\"][0], robot_poses[\"y\"][0], \n",
    "                                    robot_poses[\"theta\"][0]])],\n",
    "      layout=go.Layout(\n",
    "          title=\"Robot pose\",\n",
    "          xaxis=dict(range=[-20, 20], autorange=False),\n",
    "          yaxis=dict(scaleanchor=\"x\", scaleratio=1, autorange=False),\n",
    "          updatemenus=[dict(\n",
    "              type=\"buttons\",\n",
    "              buttons=[dict(label=\"Play\",\n",
    "                            method=\"animate\",\n",
    "                            args=[None])])]\n",
    "      ),\n",
    "      frames=frames,\n",
    "  )\n",
    "\n",
    "  fig.show()\n",
    "\n",
    "\n",
    "import pandas as pd\n",
    "\n",
    "n = 20 # Number of timesteps to simulate\n",
    "\n",
    "# Get displaments for a random path\n",
    "ds = np.random.normal(0, 0.1, n) # distance measurements\n",
    "dth = np.random.normal(0, 0.3, n) # angle measurements\n",
    "\n",
    "# Get coordinates of robot\n",
    "robot_pose = [0.0, 0.0, 0.0]\n",
    "x = np.zeros(n)\n",
    "y = np.zeros(n)\n",
    "theta = np.zeros(n)\n",
    "\n",
    "for i in range(1,len(ds)):\n",
    "  theta_i = robot_pose[2]\n",
    "  dx = ds[i] + np.cos(theta_i)\n",
    "  dy = ds[i] + np.sin(theta_i)\n",
    "\n",
    "  x[i] = x[i-1] + dx\n",
    "  y[i] = y[i-1] + dy\n",
    "  theta[i] = theta[i-1] + dth[i]\n",
    "  \n",
    "# Format data\n",
    "robot_poses = pd.DataFrame({\"x\":x, \"y\":y, \"theta\":theta})\n",
    "\n",
    "# Plot and animate robot pose\n",
    "plot_robot_poses(robot_poses)\n"
   ]
  },
  {
   "cell_type": "code",
   "execution_count": null,
   "metadata": {
    "id": "bE6tAyTf67WF"
   },
   "outputs": [],
   "source": [
    "\n"
   ]
  }
 ],
 "metadata": {
  "colab": {
   "authorship_tag": "ABX9TyP9CwcfPCSdYRHwNLSvS5mK",
   "collapsed_sections": [],
   "name": "toolbox.ipynb",
   "provenance": []
  },
  "kernelspec": {
   "display_name": "Python 3",
   "language": "python",
   "name": "python3"
  },
  "language_info": {
   "codemirror_mode": {
    "name": "ipython",
    "version": 2
   },
   "file_extension": ".py",
   "mimetype": "text/x-python",
   "name": "python",
   "nbconvert_exporter": "python",
   "pygments_lexer": "ipython2",
   "version": "2.7.18"
  }
 },
 "nbformat": 4,
 "nbformat_minor": 1
}
